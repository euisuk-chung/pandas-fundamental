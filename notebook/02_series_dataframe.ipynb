{
 "cells": [
  {
   "cell_type": "markdown",
   "metadata": {},
   "source": [
    "# 시리즈 만들기"
   ]
  },
  {
   "cell_type": "code",
   "execution_count": 1,
   "metadata": {
    "tags": []
   },
   "outputs": [
    {
     "output_type": "stream",
     "name": "stdout",
     "text": "0    banna\n1       42\ndtype: object\n"
    }
   ],
   "source": [
    "# pandas series 메서드에 리스트를 전달하여 series 생성\n",
    "import pandas as pd\n",
    "\n",
    "s = pd.Series(['banna', 42])\n",
    "print(s)"
   ]
  },
  {
   "cell_type": "code",
   "execution_count": 6,
   "metadata": {
    "tags": []
   },
   "outputs": [
    {
     "output_type": "stream",
     "name": "stdout",
     "text": "0         Wes McKinney\n1    Creator of Pandas\ndtype: object\n\n\nPerson         Wes McKinney\nWho       Creator of Pandas\ndtype: object\n"
    }
   ],
   "source": [
    "# 기본 index로 series 생성\n",
    "s = pd.Series(['Wes McKinney', 'Creator of Pandas'])\n",
    "print(s)\n",
    "print('\\n')\n",
    "\n",
    "# 자체 문자열 index로 series 생성\n",
    "s = pd.Series(['Wes McKinney', 'Creator of Pandas'], index = ['Person', 'Who'])\n",
    "print(s)"
   ]
  },
  {
   "cell_type": "markdown",
   "metadata": {},
   "source": [
    "# 데이터프레임 만들기\n",
    "- 데이터프레임을 만들기 위해서는 딕셔너리를 Dataframe클래스에 전달해야 한다.\n",
    "- 데이터프레임도 인덱스를 따로 지정하지 않으면 자동으로 생성한다.\n",
    "- 인덱스(행)를 따로 지정하려면, `index`인자에 리스트를 전달하면 된다.\n",
    "- 컬럼순서(열)을 따로 지정하려면, `column`인자에 리스트를 전달하면 된다."
   ]
  },
  {
   "cell_type": "code",
   "execution_count": 10,
   "metadata": {
    "tags": []
   },
   "outputs": [
    {
     "output_type": "stream",
     "name": "stdout",
     "text": "<class 'dict'>\n{'Name': ['Rosaline Franklin', 'William Gosset'], 'Occupation': ['Chemist', 'Statistician'], 'Born': ['1920-07-25', '1876-06-13'], 'Died': ['1958-04-16', '1937-10-16'], 'Age': [37, 61]}\n"
    }
   ],
   "source": [
    "scientists_dict = { 'Name': ['Rosaline Franklin', 'William Gosset'], \n",
    "                    'Occupation': ['Chemist', 'Statistician'], \n",
    "                    'Born': ['1920-07-25', '1876-06-13'], \n",
    "                    'Died': ['1958-04-16', '1937-10-16'], \n",
    "                    'Age': [37, 61]}\n",
    "\n",
    "print(type(scientists_dict))\n",
    "print(scientists_dict)"
   ]
  },
  {
   "cell_type": "code",
   "execution_count": 11,
   "metadata": {
    "tags": []
   },
   "outputs": [
    {
     "output_type": "stream",
     "name": "stdout",
     "text": "<class 'pandas.core.frame.DataFrame'>\n                Name    Occupation        Born        Died  Age\n0  Rosaline Franklin       Chemist  1920-07-25  1958-04-16   37\n1     William Gosset  Statistician  1876-06-13  1937-10-16   61\n"
    }
   ],
   "source": [
    "scientists = pd.DataFrame({ \n",
    "    'Name': ['Rosaline Franklin', 'William Gosset'], \n",
    "    'Occupation': ['Chemist', 'Statistician'], \n",
    "    'Born': ['1920-07-25', '1876-06-13'], \n",
    "    'Died': ['1958-04-16', '1937-10-16'], \n",
    "    'Age': [37, 61]})\n",
    "\n",
    "print(type(scientists))\n",
    "print(scientists)"
   ]
  },
  {
   "cell_type": "markdown",
   "metadata": {},
   "source": []
  },
  {
   "cell_type": "code",
   "execution_count": 12,
   "metadata": {
    "tags": []
   },
   "outputs": [
    {
     "output_type": "stream",
     "name": "stdout",
     "text": "Occupation        Born  Age        Died\nRosaline Franklin       Chemist  1920-07-25   37  1958-04-16\nWilliam Gosset     Statistician  1876-06-13   61  1937-10-16\n"
    }
   ],
   "source": [
    "scientists = pd.DataFrame( \n",
    "    data={'Occupation': ['Chemist', 'Statistician'], \n",
    "          'Born': ['1920-07-25', '1876-06-13'], \n",
    "          'Died': ['1958-04-16', '1937-10-16'],\n",
    "          'Age': [37, 61]},\n",
    "    index=['Rosaline Franklin', 'William Gosset'],\n",
    "    columns=['Occupation', 'Born', 'Age', 'Died'])\n",
    "    \n",
    "print(scientists)"
   ]
  },
  {
   "cell_type": "markdown",
   "metadata": {},
   "source": [
    "- Dictionary class는 데이터의 순서를 보장하지 않는다\n",
    "- 이러한 문제를 해결하기 위한 방법은 바로 :\n",
    "    - `collections`의 `OrderedDict`클래스를 이용하면 된다."
   ]
  },
  {
   "cell_type": "code",
   "execution_count": 15,
   "metadata": {
    "tags": []
   },
   "outputs": [
    {
     "output_type": "stream",
     "name": "stdout",
     "text": "Name    Occupation        Born        Died  Age\n0  Rosaline Franklin       Chemist  1920-07-25  1958-04-16   37\n1     William Gosset  Statistician  1876-06-13  1937-10-16   61\n"
    }
   ],
   "source": [
    "from collections import OrderedDict\n",
    "\n",
    "scientists = pd.DataFrame(\n",
    "                OrderedDict([ \n",
    "                    ('Name', ['Rosaline Franklin', 'William Gosset']),\n",
    "                    ('Occupation', ['Chemist', 'Statistician']), \n",
    "                    ('Born', ['1920-07-25', '1876-06-13']), \n",
    "                    ('Died', ['1958-04-16', '1937-10-16']), \n",
    "                    ('Age', [37, 61])\n",
    "                ])\n",
    "            )\n",
    "            \n",
    "print(scientists)"
   ]
  },
  {
   "cell_type": "markdown",
   "metadata": {},
   "source": [
    "# 데이터프레임에서 시리즈 선택하기"
   ]
  },
  {
   "cell_type": "code",
   "execution_count": 18,
   "metadata": {
    "tags": []
   },
   "outputs": [
    {
     "output_type": "stream",
     "name": "stdout",
     "text": "Occupation        Born        Died  Age\nRosaline Franklin       Chemist  1920-07-25  1958-04-16   37\nWilliam Gosset     Statistician  1876-06-13  1937-10-16   61\n<class 'pandas.core.frame.DataFrame'>\n\n\nOccupation    Statistician\nBorn            1876-06-13\nDied            1937-10-16\nAge                     61\nName: William Gosset, dtype: object\n<class 'pandas.core.series.Series'>\n"
    }
   ],
   "source": [
    "scientists = pd.DataFrame(\n",
    "    data={'Occupation': ['Chemist', 'Statistician'], \n",
    "          'Born': ['1920-07-25', '1876-06-13'], \n",
    "          'Died': ['1958-04-16', '1937-10-16'],\n",
    "          'Age': [37, 61]},\n",
    "    index=['Rosaline Franklin', 'William Gosset'],\n",
    "    columns=['Occupation', 'Born', 'Died', 'Age']) \n",
    "\n",
    "print(scientists)\n",
    "print(type(scientists))\n",
    "print('\\n')\n",
    "\n",
    "first_row = scientists.loc['William Gosset']\n",
    "print(first_row)\n",
    "print(type(first_row))"
   ]
  },
  {
   "cell_type": "markdown",
   "metadata": {},
   "source": [
    "# index, values, keys 사용하기\n",
    "- index (속성) :  시리즈의 인덱스가 들어 있다\n",
    "- values (속성) : 시리즈의 데이터가 들어 있다.\n",
    "- keys (메서드) : index속성과 같은 역할을 수행한다."
   ]
  },
  {
   "cell_type": "code",
   "execution_count": 19,
   "metadata": {
    "tags": []
   },
   "outputs": [
    {
     "output_type": "stream",
     "name": "stdout",
     "text": "Index(['Occupation', 'Born', 'Died', 'Age'], dtype='object') \n\n['Statistician' '1876-06-13' '1937-10-16' 61] \n\nIndex(['Occupation', 'Born', 'Died', 'Age'], dtype='object')\n"
    }
   ],
   "source": [
    "print(first_row.index,'\\n')\n",
    "print(first_row.values,'\\n')\n",
    "print(first_row.keys())"
   ]
  },
  {
   "cell_type": "markdown",
   "metadata": {},
   "source": [
    "# 시리즈의 mean, min, max, std 메서드 사용하기"
   ]
  },
  {
   "cell_type": "code",
   "execution_count": null,
   "metadata": {},
   "outputs": [],
   "source": []
  },
  {
   "cell_type": "markdown",
   "metadata": {},
   "source": [
    "# 시리즈와 불린 추출 사용하기"
   ]
  },
  {
   "cell_type": "code",
   "execution_count": null,
   "metadata": {},
   "outputs": [],
   "source": []
  },
  {
   "cell_type": "markdown",
   "metadata": {},
   "source": [
    "# 시리즈와 브로드캐스팅"
   ]
  },
  {
   "cell_type": "code",
   "execution_count": null,
   "metadata": {},
   "outputs": [],
   "source": []
  },
  {
   "cell_type": "markdown",
   "metadata": {},
   "source": [
    "# 데이터프레임과 불린 추출"
   ]
  },
  {
   "cell_type": "code",
   "execution_count": null,
   "metadata": {},
   "outputs": [],
   "source": []
  },
  {
   "cell_type": "markdown",
   "metadata": {},
   "source": [
    "# 데이터프레임과 브로드캐스팅"
   ]
  },
  {
   "cell_type": "code",
   "execution_count": null,
   "metadata": {},
   "outputs": [],
   "source": []
  },
  {
   "cell_type": "markdown",
   "metadata": {},
   "source": [
    "# 열의 자료형 바꾸기와 새로운 열 추가하기"
   ]
  },
  {
   "cell_type": "code",
   "execution_count": null,
   "metadata": {},
   "outputs": [],
   "source": []
  },
  {
   "cell_type": "markdown",
   "metadata": {},
   "source": [
    "# 시리즈, 데이터프레임의 데이터 섞어보기"
   ]
  },
  {
   "cell_type": "code",
   "execution_count": null,
   "metadata": {},
   "outputs": [],
   "source": []
  },
  {
   "cell_type": "markdown",
   "metadata": {},
   "source": [
    "# 데이터프레임의 열 삭제하기"
   ]
  },
  {
   "cell_type": "code",
   "execution_count": null,
   "metadata": {},
   "outputs": [],
   "source": []
  },
  {
   "cell_type": "markdown",
   "metadata": {},
   "source": [
    "# 피클 형식으로 저장하기"
   ]
  },
  {
   "cell_type": "code",
   "execution_count": null,
   "metadata": {},
   "outputs": [],
   "source": []
  },
  {
   "cell_type": "markdown",
   "metadata": {},
   "source": [
    "# CSV 불러오기"
   ]
  },
  {
   "cell_type": "code",
   "execution_count": null,
   "metadata": {},
   "outputs": [],
   "source": []
  }
 ],
 "metadata": {
  "kernelspec": {
   "display_name": "Python 3",
   "language": "python",
   "name": "python3"
  },
  "language_info": {
   "codemirror_mode": {
    "name": "ipython",
    "version": 3
   },
   "file_extension": ".py",
   "mimetype": "text/x-python",
   "name": "python",
   "nbconvert_exporter": "python",
   "pygments_lexer": "ipython3",
   "version": "3.6.5"
  }
 },
 "nbformat": 4,
 "nbformat_minor": 2
}