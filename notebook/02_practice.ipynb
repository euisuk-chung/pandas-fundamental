{
 "cells": [
  {
   "cell_type": "markdown",
   "metadata": {},
   "source": [
    "# 갭마인더 데이터 집합 불러오기"
   ]
  },
  {
   "cell_type": "code",
   "execution_count": 1,
   "metadata": {},
   "outputs": [],
   "source": [
    "import pandas as pd\n",
    "\n",
    "df = pd.read_csv('../data/gapminder.tsv', sep = '\\t') \n",
    "# ../는 상위폴더 디렉토리를 의미한다"
   ]
  },
  {
   "cell_type": "markdown",
   "metadata": {},
   "source": [
    "# 불러온 데이터 집합 살펴보기"
   ]
  },
  {
   "cell_type": "code",
   "execution_count": 7,
   "metadata": {
    "tags": []
   },
   "outputs": [
    {
     "output_type": "stream",
     "name": "stdout",
     "text": "country continent  year  lifeExp       pop   gdpPercap\n0  Afghanistan      Asia  1952   28.801   8425333  779.445314\n1  Afghanistan      Asia  1957   30.332   9240934  820.853030\n2  Afghanistan      Asia  1962   31.997  10267083  853.100710\n3  Afghanistan      Asia  1967   34.020  11537966  836.197138\n4  Afghanistan      Asia  1972   36.088  13079460  739.981106 \n\n       country continent  year  lifeExp       pop   gdpPercap\n1699  Zimbabwe    Africa  1987   62.351   9216418  706.157306\n1700  Zimbabwe    Africa  1992   60.377  10704340  693.420786\n1701  Zimbabwe    Africa  1997   46.809  11404948  792.449960\n1702  Zimbabwe    Africa  2002   39.989  11926563  672.038623\n1703  Zimbabwe    Africa  2007   43.487  12311143  469.709298 \n\n<class 'pandas.core.frame.DataFrame'> \n\n(1704, 6) \n\nIndex(['country', 'continent', 'year', 'lifeExp', 'pop', 'gdpPercap'], dtype='object') \n\ncountry       object\ncontinent     object\nyear           int64\nlifeExp      float64\npop            int64\ngdpPercap    float64\ndtype: object \n\n<class 'pandas.core.frame.DataFrame'>\nRangeIndex: 1704 entries, 0 to 1703\nData columns (total 6 columns):\n #   Column     Non-Null Count  Dtype  \n---  ------     --------------  -----  \n 0   country    1704 non-null   object \n 1   continent  1704 non-null   object \n 2   year       1704 non-null   int64  \n 3   lifeExp    1704 non-null   float64\n 4   pop        1704 non-null   int64  \n 5   gdpPercap  1704 non-null   float64\ndtypes: float64(2), int64(2), object(2)\nmemory usage: 80.0+ KB\nNone \n\n"
    }
   ],
   "source": [
    "print(df.head(), '\\n')  # data head 출력하기\n",
    "print(df.tail(), '\\n') # data tail 출력하기\n",
    "print(type(df), '\\n') # data 자료형 출력하기\n",
    "print(df.shape, '\\n') # data 형태 출력하기\n",
    "print(df.columns, '\\n') # data 컬럼 이름 출력하기\n",
    "print(df.dtypes, '\\n') # data 컬럼 유형 출력하기\n",
    "print(df.info(), '\\n') # data 설명 출력하기"
   ]
  },
  {
   "cell_type": "markdown",
   "metadata": {},
   "source": [
    "|   판다스 자료형   |   파이썬 자료형   |   설명   |\n",
    "|---|---|---|\n",
    "| `object` | `string` | 문자열 |\n",
    "| `int64` | `int` | 정수 |\n",
    "| `float64` | `float` | 실수 |\n",
    "| `datetime64` | `datetime` | 시간 |"
   ]
  },
  {
   "cell_type": "markdown",
   "metadata": {},
   "source": [
    "# 열 단위로 데이터 추출하기"
   ]
  },
  {
   "cell_type": "code",
   "execution_count": 13,
   "metadata": {
    "tags": []
   },
   "outputs": [
    {
     "output_type": "stream",
     "name": "stdout",
     "text": "<class 'pandas.core.series.Series'> \n\n0    Afghanistan\n1    Afghanistan\n2    Afghanistan\n3    Afghanistan\n4    Afghanistan\nName: country, dtype: object \n\n1699    Zimbabwe\n1700    Zimbabwe\n1701    Zimbabwe\n1702    Zimbabwe\n1703    Zimbabwe\nName: country, dtype: object\n"
    }
   ],
   "source": [
    "country_df=df['country'] # 데이터프레임에서 열 이름이 country인 열 추출\n",
    "\n",
    "print(type(country_df), '\\n') # column 한개만 추출했으므로 series로 출력된다\n",
    "print(country_df.head(), '\\n')\n",
    "print(country_df.tail())"
   ]
  },
  {
   "cell_type": "code",
   "execution_count": 17,
   "metadata": {
    "tags": []
   },
   "outputs": [
    {
     "output_type": "stream",
     "name": "stdout",
     "text": "<class 'pandas.core.frame.DataFrame'> \n\n       country continent  year\n0  Afghanistan      Asia  1952\n1  Afghanistan      Asia  1957\n2  Afghanistan      Asia  1962\n3  Afghanistan      Asia  1967\n4  Afghanistan      Asia  1972 \n\n       country continent  year\n1699  Zimbabwe    Africa  1987\n1700  Zimbabwe    Africa  1992\n1701  Zimbabwe    Africa  1997\n1702  Zimbabwe    Africa  2002\n1703  Zimbabwe    Africa  2007\n"
    }
   ],
   "source": [
    "subset = df[['country', 'continent', 'year']]\n",
    "# test =df['country', 'continent', 'year'] >> ERROR\n",
    "\n",
    "bset = df[['country', 'continent', 'year']]\n",
    "# test =df['country', 'continent', 'year'] >> ERROR\n",
    "\n",
    "print(type(subset), '\\n') # column 여러개를 추출했으므로 DataFrame으로 출력된다\n",
    "print(subset.head(), '\\n')\n",
    "print(subset.tail())"
   ]
  },
  {
   "cell_type": "markdown",
   "metadata": {},
   "source": [
    "# 행단위로 데이터 추출하기\n",
    "\n",
    "| 속성 | 설명 |\n",
    "|---|---|\n",
    "| `loc` | 인덱스를 기준으로 행 데이터 추출 |\n",
    "| `iloc` | 행 번호를 기준으로 행 데이터 추출 |"
   ]
  },
  {
   "cell_type": "markdown",
   "metadata": {},
   "source": [
    "# loc 속성으로 행 단위 데이터 추출하기"
   ]
  },
  {
   "cell_type": "code",
   "execution_count": 18,
   "metadata": {
    "tags": []
   },
   "outputs": [
    {
     "output_type": "stream",
     "name": "stdout",
     "text": "country continent  year  lifeExp      pop   gdpPercap\n0  Afghanistan      Asia  1952   28.801  8425333  779.445314\n"
    }
   ],
   "source": [
    "print(df.head(1))"
   ]
  },
  {
   "cell_type": "code",
   "execution_count": 21,
   "metadata": {
    "tags": []
   },
   "outputs": [
    {
     "output_type": "stream",
     "name": "stdout",
     "text": "country      Afghanistan\ncontinent           Asia\nyear                1952\nlifeExp           28.801\npop              8425333\ngdpPercap        779.445\nName: 0, dtype: object\n"
    }
   ],
   "source": [
    "print(df.loc[0])\n",
    "# print(df.loc[-1]) >> index에 없는 값을 넣으면 에러가 난다"
   ]
  },
  {
   "cell_type": "markdown",
   "metadata": {},
   "source": [
    "# tail과 loc는 조금 달라요!\n",
    "- 부제 : 데이터의 마지막 행 호출하기\n",
    "- 참고 : 둘이 반환하는 데이터유형도 다르다\n",
    "    - loc : series 반환\n",
    "    - tail : dataframe 반환"
   ]
  },
  {
   "cell_type": "code",
   "execution_count": 25,
   "metadata": {
    "tags": []
   },
   "outputs": [
    {
     "output_type": "stream",
     "name": "stdout",
     "text": "country      Zimbabwe\ncontinent      Africa\nyear             2007\nlifeExp        43.487\npop          12311143\ngdpPercap     469.709\nName: 1703, dtype: object\n<class 'pandas.core.series.Series'>\n"
    }
   ],
   "source": [
    "num_rows = df.shape[0]\n",
    "last_row_idx = num_rows-1\n",
    "print(df.loc[last_row_idx])\n",
    "print(type(df.loc[last_row_idx]))"
   ]
  },
  {
   "cell_type": "code",
   "execution_count": 26,
   "metadata": {
    "tags": []
   },
   "outputs": [
    {
     "output_type": "stream",
     "name": "stdout",
     "text": "country continent  year  lifeExp       pop   gdpPercap\n1703  Zimbabwe    Africa  2007   43.487  12311143  469.709298\n<class 'pandas.core.frame.DataFrame'>\n"
    }
   ],
   "source": [
    "print(df.tail(1))\n",
    "print(type(df.tail(1)))"
   ]
  },
  {
   "cell_type": "markdown",
   "metadata": {},
   "source": [
    "# iloc 속성으로 행 단위 데이터 추출하기"
   ]
  },
  {
   "cell_type": "code",
   "execution_count": 27,
   "metadata": {
    "tags": []
   },
   "outputs": [
    {
     "output_type": "stream",
     "name": "stdout",
     "text": "country      Zimbabwe\ncontinent      Africa\nyear             2007\nlifeExp        43.487\npop          12311143\ngdpPercap     469.709\nName: 1703, dtype: object \n\n         country continent  year  lifeExp       pop    gdpPercap\n0    Afghanistan      Asia  1952   28.801   8425333   779.445314\n99    Bangladesh      Asia  1967   43.453  62821884   721.186086\n999     Mongolia      Asia  1967   51.253   1149500  1226.041130\n"
    }
   ],
   "source": [
    "print(df.iloc[-1], '\\n')\n",
    "\n",
    "print(df.iloc[[0,99,999]])"
   ]
  },
  {
   "cell_type": "markdown",
   "metadata": {},
   "source": [
    "# 파이썬 슬라이싱 구문을 조합하여 원하는 데이터 추출하기\n",
    "- `df.loc[[행], [열]]` >> index이름으로 조회\n",
    "- `df.iloc[[행], [열]]` >> index속성으로 조회"
   ]
  },
  {
   "cell_type": "code",
   "execution_count": 35,
   "metadata": {
    "tags": []
   },
   "outputs": [
    {
     "output_type": "stream",
     "name": "stdout",
     "text": "year       pop\n0  1952   8425333\n1  1957   9240934\n2  1962  10267083\n3  1967  11537966\n4  1972  13079460 \n\n(1704, 2) \n\n   year       pop\n0  1952   8425333\n1  1957   9240934\n2  1962  10267083\n3  1967  11537966\n4  1972  13079460 \n\n(1704, 2) \n\n"
    }
   ],
   "source": [
    "subset = df.loc[:, ['year', 'pop']]\n",
    "print(subset.head(), '\\n')\n",
    "print(subset.shape, '\\n')\n",
    "\n",
    "subset2 = df[['year', 'pop']]\n",
    "print(subset2.head(), '\\n')\n",
    "print(subset2.shape, '\\n')\n",
    "\n",
    "# subset3 = df.loc[:, [1, 2]] \n",
    "# index의 이름으로 조회하기 때문에 에러가 나는 것을 확인할 수 있다"
   ]
  },
  {
   "cell_type": "code",
   "execution_count": 37,
   "metadata": {
    "tags": []
   },
   "outputs": [
    {
     "output_type": "stream",
     "name": "stdout",
     "text": "year       pop   gdpPercap\n0  1952   8425333  779.445314\n1  1957   9240934  820.853030\n2  1962  10267083  853.100710\n3  1967  11537966  836.197138\n4  1972  13079460  739.981106 \n\n(1704, 3) \n\n"
    }
   ],
   "source": [
    "subset = df.iloc[:, [2,4,-1]]\n",
    "print(subset.head(), '\\n')\n",
    "print(subset.shape, '\\n')\n",
    "\n",
    "# subset2 = df.iloc[:, ['year', 'pop', 'gdpPercap']]\n",
    "# index의 속성으로 조회하기 때문에 에러가 나는 것을 확인할 수 있다"
   ]
  },
  {
   "cell_type": "markdown",
   "metadata": {},
   "source": [
    "# iloc 속성과 range 메서드로 원하는 데이터 추출하기"
   ]
  },
  {
   "cell_type": "code",
   "execution_count": 42,
   "metadata": {
    "tags": []
   },
   "outputs": [
    {
     "output_type": "stream",
     "name": "stdout",
     "text": "range(0, 5)\n<class 'range'> \n\n[0, 1, 2, 3, 4]\n<class 'list'> \n\n       country continent  year  lifeExp       pop\n0  Afghanistan      Asia  1952   28.801   8425333\n1  Afghanistan      Asia  1957   30.332   9240934\n2  Afghanistan      Asia  1962   31.997  10267083\n3  Afghanistan      Asia  1967   34.020  11537966\n4  Afghanistan      Asia  1972   36.088  13079460\n"
    }
   ],
   "source": [
    "range_unchanged = range(5)\n",
    "small_range = list(range(5))\n",
    "\n",
    "print(range_unchanged)\n",
    "print(type(range_unchanged), '\\n') # Generator 반환\n",
    "print(small_range)\n",
    "print(type(small_range), '\\n') # list 반환 >> iloc을 위해서는 list로 변환해줘야함\n",
    "\n",
    "subset = df.iloc[:, small_range]\n",
    "print(subset.head())"
   ]
  },
  {
   "cell_type": "markdown",
   "metadata": {},
   "source": [
    "# 열 지정값에 파이썬 슬라이싱을 사용하여 원하는 데이터 추출하기"
   ]
  },
  {
   "cell_type": "code",
   "execution_count": 45,
   "metadata": {
    "tags": []
   },
   "outputs": [
    {
     "output_type": "stream",
     "name": "stdout",
     "text": "country continent  year\n0  Afghanistan      Asia  1952\n1  Afghanistan      Asia  1957\n2  Afghanistan      Asia  1962\n3  Afghanistan      Asia  1967\n4  Afghanistan      Asia  1972\n"
    }
   ],
   "source": [
    "subset = df.iloc[:, list(range(3))]\n",
    "print(subset.head())"
   ]
  },
  {
   "cell_type": "code",
   "execution_count": 44,
   "metadata": {
    "tags": []
   },
   "outputs": [
    {
     "output_type": "stream",
     "name": "stdout",
     "text": "country continent  year\n0  Afghanistan      Asia  1952\n1  Afghanistan      Asia  1957\n2  Afghanistan      Asia  1962\n3  Afghanistan      Asia  1967\n4  Afghanistan      Asia  1972\n"
    }
   ],
   "source": [
    "subset = df.iloc[:, :3]\n",
    "print(subset.head())"
   ]
  },
  {
   "cell_type": "code",
   "execution_count": 43,
   "metadata": {
    "tags": []
   },
   "outputs": [
    {
     "output_type": "stream",
     "name": "stdout",
     "text": "[0, 2, 4] \n\n       country  year       pop\n0  Afghanistan  1952   8425333\n1  Afghanistan  1957   9240934\n2  Afghanistan  1962  10267083\n3  Afghanistan  1967  11537966\n4  Afghanistan  1972  13079460\n"
    }
   ],
   "source": [
    "small_range = list(range(0,6,2))\n",
    "print(small_range, '\\n')\n",
    "\n",
    "subset = df.iloc[:, small_range]\n",
    "print(subset.head())"
   ]
  },
  {
   "cell_type": "code",
   "execution_count": 46,
   "metadata": {
    "tags": []
   },
   "outputs": [
    {
     "output_type": "stream",
     "name": "stdout",
     "text": "country  year       pop\n0  Afghanistan  1952   8425333\n1  Afghanistan  1957   9240934\n2  Afghanistan  1962  10267083\n3  Afghanistan  1967  11537966\n4  Afghanistan  1972  13079460\n"
    }
   ],
   "source": [
    "subset = df.iloc[:, 0:6:2]\n",
    "print(subset.head())"
   ]
  },
  {
   "cell_type": "markdown",
   "metadata": {},
   "source": [
    "# loc, iloc 자유자재로 사용하기"
   ]
  },
  {
   "cell_type": "code",
   "execution_count": 48,
   "metadata": {
    "tags": []
   },
   "outputs": [
    {
     "output_type": "stream",
     "name": "stdout",
     "text": "country  lifeExp    gdpPercap\n0    Afghanistan   28.801   779.445314\n99    Bangladesh   43.453   721.186086\n999     Mongolia   51.253  1226.041130\n"
    }
   ],
   "source": [
    "print(df.iloc[[0,99,999],[0,3,5]])"
   ]
  },
  {
   "cell_type": "code",
   "execution_count": 54,
   "metadata": {
    "tags": []
   },
   "outputs": [
    {
     "output_type": "stream",
     "name": "stdout",
     "text": "country  lifeExp    gdpPercap\n0    Afghanistan   28.801   779.445314\n99    Bangladesh   43.453   721.186086\n999     Mongolia   51.253  1226.041130\n"
    }
   ],
   "source": [
    "print(df.loc[[0,99,999],['country','lifeExp','gdpPercap']])"
   ]
  },
  {
   "cell_type": "code",
   "execution_count": 55,
   "metadata": {
    "tags": []
   },
   "outputs": [
    {
     "output_type": "stream",
     "name": "stdout",
     "text": "country  lifeExp    gdpPercap\n10  Afghanistan   42.129   726.734055\n11  Afghanistan   43.828   974.580338\n12      Albania   55.230  1601.056136\n13      Albania   59.280  1942.284244\n"
    }
   ],
   "source": [
    "print(df.loc[10:13, ['country', 'lifeExp', 'gdpPercap']])"
   ]
  },
  {
   "cell_type": "markdown",
   "metadata": {},
   "source": [
    "# 그룹화한 데이터의 평균 구하기\n",
    "- groupby"
   ]
  },
  {
   "cell_type": "code",
   "execution_count": 58,
   "metadata": {
    "tags": []
   },
   "outputs": [
    {
     "output_type": "stream",
     "name": "stdout",
     "text": "year\n1952    49.057620\n1957    51.507401\n1962    53.609249\n1967    55.678290\n1972    57.647386\n1977    59.570157\n1982    61.533197\n1987    63.212613\n1992    64.160338\n1997    65.014676\n2002    65.694923\n2007    67.007423\nName: lifeExp, dtype: float64 \n\nyear\n1952    28.801\n1957    30.332\n1962    31.997\n1967    34.020\n1972    35.400\n1977    31.220\n1982    38.445\n1987    39.906\n1992    23.599\n1997    36.087\n2002    39.193\n2007    39.613\nName: lifeExp, dtype: float64 \n\nyear\n1952    72.670\n1957    73.470\n1962    73.680\n1967    74.160\n1972    74.720\n1977    76.110\n1982    77.110\n1987    78.670\n1992    79.360\n1997    80.690\n2002    82.000\n2007    82.603\nName: lifeExp, dtype: float64 \n\nyear\n1952    45.1355\n1957    48.3605\n1962    50.8810\n1967    53.8250\n1972    56.5300\n1977    59.6720\n1982    62.4415\n1987    65.8340\n1992    67.7030\n1997    69.3940\n2002    70.8255\n2007    71.9355\nName: lifeExp, dtype: float64 \n\n"
    }
   ],
   "source": [
    "print(df.groupby('year')['lifeExp'].mean(), '\\n')\n",
    "print(df.groupby('year')['lifeExp'].min(), '\\n')\n",
    "print(df.groupby('year')['lifeExp'].max(), '\\n')\n",
    "print(df.groupby('year')['lifeExp'].median(), '\\n')"
   ]
  },
  {
   "cell_type": "code",
   "execution_count": 65,
   "metadata": {
    "tags": []
   },
   "outputs": [
    {
     "output_type": "stream",
     "name": "stdout",
     "text": "<class 'pandas.core.groupby.generic.DataFrameGroupBy'>\n<pandas.core.groupby.generic.DataFrameGroupBy object at 0x00000258D8F7DE10>\n\n\n<class 'pandas.core.groupby.generic.SeriesGroupBy'>\n<pandas.core.groupby.generic.SeriesGroupBy object at 0x00000258D8F7D860>\n\n\nyear\n1952    49.057620\n1957    51.507401\n1962    53.609249\n1967    55.678290\n1972    57.647386\n1977    59.570157\n1982    61.533197\n1987    63.212613\n1992    64.160338\n1997    65.014676\n2002    65.694923\n2007    67.007423\nName: lifeExp, dtype: float64\n"
    }
   ],
   "source": [
    "# 연도별로 그룹화한 열들을 모은 데이터프레임\n",
    "grouped_year_df = df.groupby('year')\n",
    "print(type(grouped_year_df))\n",
    "print(grouped_year_df)\n",
    "print('\\n')\n",
    "\n",
    "# 데이터프레임 중 lifeExp\n",
    "grouped_year_df_lifeExp = grouped_year_df['lifeExp']\n",
    "print(type(grouped_year_df_lifeExp))\n",
    "print(grouped_year_df_lifeExp)\n",
    "print('\\n')\n",
    "\n",
    "# mean 메서드를 이용한 평균 도출\n",
    "mean_lifeExp_by_year = grouped_year_df_lifeExp.mean() \n",
    "print(mean_lifeExp_by_year)"
   ]
  },
  {
   "cell_type": "code",
   "execution_count": null,
   "metadata": {},
   "outputs": [],
   "source": [
    "# lifeExp, gdpPercap 열의 평균값을 연도, 지역별로 그룹화하여 한 번에 계산하기\n",
    "multi_group_var = df.groupby(['year', 'continent'])[['lifeExp', 'gdpPercap']].mean() \n",
    "print(multi_group_var)"
   ]
  },
  {
   "cell_type": "markdown",
   "metadata": {},
   "source": [
    "# 그룹화한 데이터의 개수 세어보기"
   ]
  },
  {
   "cell_type": "code",
   "execution_count": null,
   "metadata": {},
   "outputs": [],
   "source": []
  },
  {
   "cell_type": "markdown",
   "metadata": {},
   "source": [
    "# 그래프 만들기"
   ]
  },
  {
   "cell_type": "code",
   "execution_count": null,
   "metadata": {},
   "outputs": [],
   "source": []
  }
 ],
 "metadata": {
  "kernelspec": {
   "display_name": "Python 3.6.10 64-bit ('torch36': conda)",
   "language": "python",
   "name": "python_defaultSpec_1596771159122"
  },
  "language_info": {
   "codemirror_mode": {
    "name": "ipython",
    "version": 3
   },
   "file_extension": ".py",
   "mimetype": "text/x-python",
   "name": "python",
   "nbconvert_exporter": "python",
   "pygments_lexer": "ipython3",
   "version": "3.6.10-final"
  }
 },
 "nbformat": 4,
 "nbformat_minor": 2
}